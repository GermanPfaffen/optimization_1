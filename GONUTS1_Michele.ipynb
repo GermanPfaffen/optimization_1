{
 "cells": [
  {
   "cell_type": "markdown",
   "metadata": {},
   "source": [
    "GONUTS"
   ]
  },
  {
   "cell_type": "code",
   "execution_count": 3,
   "metadata": {},
   "outputs": [],
   "source": [
    "using JuMP, GLPK;"
   ]
  },
  {
   "cell_type": "code",
   "execution_count": 4,
   "metadata": {},
   "outputs": [
    {
     "data": {
      "text/latex": [
       "$$ \\begin{alignat*}{1}\\text{feasibility}\\\\\n",
       "\\text{Subject to} \\quad\\end{alignat*}\n",
       " $$"
      ],
      "text/plain": [
       "A JuMP Model\n",
       "Feasibility problem with:\n",
       "Variables: 0\n",
       "Model mode: AUTOMATIC\n",
       "CachingOptimizer state: EMPTY_OPTIMIZER\n",
       "Solver name: GLPK"
      ]
     },
     "execution_count": 4,
     "metadata": {},
     "output_type": "execute_result"
    }
   ],
   "source": [
    "m2 = Model(with_optimizer(GLPK.Optimizer))"
   ]
  },
  {
   "cell_type": "code",
   "execution_count": 5,
   "metadata": {},
   "outputs": [],
   "source": [
    "@variable(m2, xge2 >=0);\n",
    "@variable(m2, xke2 >=0);\n",
    "@variable(m2, xgt2 >=0);\n",
    "@variable(m2, xkt2 >=0);\n",
    "@variable(m2, xgn2 >=0);\n",
    "@variable(m2, xkn2 >=0);"
   ]
  },
  {
   "cell_type": "code",
   "execution_count": 6,
   "metadata": {},
   "outputs": [
    {
     "data": {
      "text/latex": [
       "$$ 21 xge2 + 22.5 xke2 + 22.5 xgt2 + 24.5 xkt2 + 23 xgn2 + 25.5 xkn2 $$"
      ],
      "text/plain": [
       "21 xge2 + 22.5 xke2 + 22.5 xgt2 + 24.5 xkt2 + 23 xgn2 + 25.5 xkn2"
      ]
     },
     "execution_count": 6,
     "metadata": {},
     "output_type": "execute_result"
    }
   ],
   "source": [
    "@objective(m2, Min, 21xge2 + 22.5xke2 + 22.5xgt2 + 24.5xkt2 + 23xgn2 + 25.5xkn2)"
   ]
  },
  {
   "cell_type": "code",
   "execution_count": 7,
   "metadata": {},
   "outputs": [
    {
     "data": {
      "text/latex": [
       "constraint10 : $ xgn2 + xkn2 \\leq 750.0 $"
      ],
      "text/plain": [
       "constraint10 : xgn2 + xkn2 <= 750.0"
      ]
     },
     "execution_count": 7,
     "metadata": {},
     "output_type": "execute_result"
    }
   ],
   "source": [
    "@constraint(m2, constraint10, xgn2 +  xkn2 <= 750)"
   ]
  },
  {
   "cell_type": "code",
   "execution_count": 8,
   "metadata": {},
   "outputs": [
    {
     "data": {
      "text/latex": [
       "constraint20 : $ xge2 + xke2 \\leq 425.0 $"
      ],
      "text/plain": [
       "constraint20 : xge2 + xke2 <= 425.0"
      ]
     },
     "execution_count": 8,
     "metadata": {},
     "output_type": "execute_result"
    }
   ],
   "source": [
    "@constraint(m2, constraint20, xge2 +  xke2 <= 425)"
   ]
  },
  {
   "cell_type": "code",
   "execution_count": 9,
   "metadata": {},
   "outputs": [
    {
     "data": {
      "text/latex": [
       "constraint30 : $ xgt2 + xkt2 \\leq 400.0 $"
      ],
      "text/plain": [
       "constraint30 : xgt2 + xkt2 <= 400.0"
      ]
     },
     "execution_count": 9,
     "metadata": {},
     "output_type": "execute_result"
    }
   ],
   "source": [
    "@constraint(m2, constraint30, xgt2 +  xkt2 <= 400)"
   ]
  },
  {
   "cell_type": "code",
   "execution_count": 10,
   "metadata": {},
   "outputs": [
    {
     "data": {
      "text/latex": [
       "constraint50 : $ xke2 + xkt2 + xkn2 \\geq 450.0 $"
      ],
      "text/plain": [
       "constraint50 : xke2 + xkt2 + xkn2 >= 450.0"
      ]
     },
     "execution_count": 10,
     "metadata": {},
     "output_type": "execute_result"
    }
   ],
   "source": [
    "@constraint(m2, constraint40, xge2 +  xgt2 + xgn2 >= 550)\n",
    "@constraint(m2, constraint50, xke2 +  xkt2 + xkn2  >= 450)"
   ]
  },
  {
   "cell_type": "code",
   "execution_count": 11,
   "metadata": {},
   "outputs": [
    {
     "name": "stdout",
     "output_type": "stream",
     "text": [
      "Min 21 xge2 + 22.5 xke2 + 22.5 xgt2 + 24.5 xkt2 + 23 xgn2 + 25.5 xkn2\n",
      "Subject to\n",
      " constraint40 : xge2 + xgt2 + xgn2 >= 550.0\n",
      " constraint50 : xke2 + xkt2 + xkn2 >= 450.0\n",
      " constraint10 : xgn2 + xkn2 <= 750.0\n",
      " constraint20 : xge2 + xke2 <= 425.0\n",
      " constraint30 : xgt2 + xkt2 <= 400.0\n",
      " xge2 >= 0.0\n",
      " xke2 >= 0.0\n",
      " xgt2 >= 0.0\n",
      " xkt2 >= 0.0\n",
      " xgn2 >= 0.0\n",
      " xkn2 >= 0.0\n"
     ]
    }
   ],
   "source": [
    "print(m2)"
   ]
  },
  {
   "cell_type": "code",
   "execution_count": 12,
   "metadata": {},
   "outputs": [],
   "source": [
    "optimize!(m2)"
   ]
  },
  {
   "cell_type": "code",
   "execution_count": 13,
   "metadata": {},
   "outputs": [
    {
     "data": {
      "text/plain": [
       "OPTIMAL::TerminationStatusCode = 1"
      ]
     },
     "execution_count": 13,
     "metadata": {},
     "output_type": "execute_result"
    }
   ],
   "source": [
    "termination_status(m2)"
   ]
  },
  {
   "cell_type": "code",
   "execution_count": 16,
   "metadata": {},
   "outputs": [
    {
     "name": "stdout",
     "output_type": "stream",
     "text": [
      "Optimal Solutions:\n",
      "x1 = 0.0\n",
      "x2 = 425.0\n",
      "x3 = 175.0\n",
      "x3 = 0.0\n",
      "x3 = 375.0\n",
      "x3 = 25.0\n"
     ]
    }
   ],
   "source": [
    "println(\"Optimal Solutions:\")\n",
    "println(\"x1 = \", value(xge2))\n",
    "println(\"x2 = \", value(xke2))\n",
    "println(\"x3 = \", value(xgn2))\n",
    "println(\"x3 = \", value(xkn2))\n",
    "println(\"x3 = \", value(xgt2))\n",
    "println(\"x3 = \", value(xkt2))"
   ]
  },
  {
   "cell_type": "code",
   "execution_count": 15,
   "metadata": {},
   "outputs": [
    {
     "name": "stdout",
     "output_type": "stream",
     "text": [
      "** Optimal objective function value = 22637.5\n"
     ]
    }
   ],
   "source": [
    "println(\"** Optimal objective function value = \", JuMP.objective_value(m2))"
   ]
  }
 ],
 "metadata": {
  "@webio": {
   "lastCommId": null,
   "lastKernelId": null
  },
  "celltoolbar": "Slideshow",
  "kernelspec": {
   "display_name": "Julia 1.5.3",
   "language": "julia",
   "name": "julia-1.5"
  },
  "language_info": {
   "file_extension": ".jl",
   "mimetype": "application/julia",
   "name": "julia",
   "version": "1.5.3"
  },
  "rise": {
   "enable_chalkboard": false,
   "scroll": true,
   "theme": "serif"
  },
  "toc": {
   "base_numbering": 1,
   "nav_menu": {},
   "number_sections": false,
   "sideBar": true,
   "skip_h1_title": false,
   "title_cell": "Table of Contents",
   "title_sidebar": "Contents",
   "toc_cell": false,
   "toc_position": {},
   "toc_section_display": true,
   "toc_window_display": false
  }
 },
 "nbformat": 4,
 "nbformat_minor": 4
}
