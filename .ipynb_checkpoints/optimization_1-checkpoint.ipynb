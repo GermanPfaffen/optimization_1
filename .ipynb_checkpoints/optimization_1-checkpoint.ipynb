{
 "cells": [
  {
   "cell_type": "code",
   "execution_count": 1,
   "metadata": {},
   "outputs": [],
   "source": [
    "using JuMP, GLPK;"
   ]
  },
  {
   "cell_type": "code",
   "execution_count": 2,
   "metadata": {},
   "outputs": [],
   "source": [
    "m = Model(with_optimizer(GLPK.Optimizer));"
   ]
  },
  {
   "cell_type": "code",
   "execution_count": 3,
   "metadata": {},
   "outputs": [],
   "source": [
    "@variable(m, 0<= xge);\n",
    "@variable(m, 0<= xke);\n",
    "@variable(m, 0<= xgt);\n",
    "@variable(m, 0<= xkt);\n",
    "@variable(m, 0<= xgn);\n",
    "@variable(m, 0<= xkn);"
   ]
  },
  {
   "cell_type": "code",
   "execution_count": 4,
   "metadata": {},
   "outputs": [
    {
     "data": {
      "text/latex": [
       "$$ 21 xge + 22.5 xke + 22.5 xgt + 24.5 xkt + 23 xgn + 25.5 xkn $$"
      ],
      "text/plain": [
       "21 xge + 22.5 xke + 22.5 xgt + 24.5 xkt + 23 xgn + 25.5 xkn"
      ]
     },
     "execution_count": 4,
     "metadata": {},
     "output_type": "execute_result"
    }
   ],
   "source": [
    "@objective(m, Min, 21xge + 22.5xke + 22.5xgt + 24.5xkt + 23xgn + 25.5xkn)"
   ]
  },
  {
   "cell_type": "code",
   "execution_count": 5,
   "metadata": {},
   "outputs": [],
   "source": [
    "@constraint(m, constraint1, xge + xke <= 425);\n",
    "@constraint(m, constraint2, xgt + xkt <= 400);\n",
    "@constraint(m, constraint3, xgn + xkn <= 750);\n",
    "@constraint(m, constraint4, xge + xgt + xgn >= 550);\n",
    "@constraint(m, constraint5, xke +  xkt + xkn >= 450);"
   ]
  },
  {
   "cell_type": "code",
   "execution_count": 6,
   "metadata": {},
   "outputs": [
    {
     "name": "stdout",
     "output_type": "stream",
     "text": [
      "Min 21 xge + 22.5 xke + 22.5 xgt + 24.5 xkt + 23 xgn + 25.5 xkn\n",
      "Subject to\n",
      " constraint4 : xge + xgt + xgn ≥ 550.0\n",
      " constraint5 : xke + xkt + xkn ≥ 450.0\n",
      " constraint1 : xge + xke ≤ 425.0\n",
      " constraint2 : xgt + xkt ≤ 400.0\n",
      " constraint3 : xgn + xkn ≤ 750.0\n",
      " xge ≥ 0.0\n",
      " xke ≥ 0.0\n",
      " xgt ≥ 0.0\n",
      " xkt ≥ 0.0\n",
      " xgn ≥ 0.0\n",
      " xkn ≥ 0.0\n"
     ]
    }
   ],
   "source": [
    "print(m)"
   ]
  },
  {
   "cell_type": "code",
   "execution_count": 7,
   "metadata": {},
   "outputs": [],
   "source": [
    "optimize!(m)"
   ]
  },
  {
   "cell_type": "code",
   "execution_count": 8,
   "metadata": {},
   "outputs": [
    {
     "data": {
      "text/plain": [
       "OPTIMAL::TerminationStatusCode = 1"
      ]
     },
     "execution_count": 8,
     "metadata": {},
     "output_type": "execute_result"
    }
   ],
   "source": [
    "termination_status(m)"
   ]
  },
  {
   "cell_type": "code",
   "execution_count": 9,
   "metadata": {},
   "outputs": [
    {
     "name": "stdout",
     "output_type": "stream",
     "text": [
      "Optimal Solutions:\n",
      "xge = 0.0\n",
      "xke = 425.0\n",
      "xgt = 375.0\n",
      "xkt = 25.0\n",
      "xgn = 175.0\n",
      "xkn = 0.0\n"
     ]
    }
   ],
   "source": [
    "println(\"Optimal Solutions:\")\n",
    "println(\"xge = \", value(xge))\n",
    "println(\"xke = \", value(xke))\n",
    "println(\"xgt = \", value(xgt))\n",
    "println(\"xkt = \", value(xkt))\n",
    "println(\"xgn = \", value(xgn))\n",
    "println(\"xkn = \", value(xkn))"
   ]
  },
  {
   "cell_type": "code",
   "execution_count": null,
   "metadata": {},
   "outputs": [],
   "source": []
  }
 ],
 "metadata": {
  "kernelspec": {
   "display_name": "Julia 1.5.3",
   "language": "julia",
   "name": "julia-1.5"
  },
  "language_info": {
   "file_extension": ".jl",
   "mimetype": "application/julia",
   "name": "julia",
   "version": "1.5.3"
  }
 },
 "nbformat": 4,
 "nbformat_minor": 4
}
